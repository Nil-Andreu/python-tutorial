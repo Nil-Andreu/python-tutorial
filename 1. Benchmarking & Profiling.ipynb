{
 "cells": [
  {
   "cell_type": "code",
   "execution_count": null,
   "id": "01f9df36",
   "metadata": {},
   "outputs": [],
   "source": [
    "# Particle position (x, y) with the angular velocity\n",
    "class Particle:\n",
    "    def _init__(self, x, y, ang_vel):\n",
    "        self.x = x\n",
    "        self.y = y\n",
    "        self.ang_vel = ang_vel\n",
    "    \n",
    "\n",
    "# Keep track of the positions of the particles\n",
    "class ParticlesSimulator:\n",
    "    def __init__(self, particles):\n",
    "        self.particles = particles\n",
    "    \n",
    "    def evolve(self, dt):\n",
    "        timestep = 0.00001\n",
    "        nsteps = int(dt/timestep)\n",
    "        \n",
    "        for i in range(nsteps):\n",
    "            for p in self.particles:\n",
    "                # Compute  the velocity in directions of x and y\n",
    "                # Know the direction of movement along x and y (Pitagoras)\n",
    "                v_x = -y / (x ** 2 + y ** 2) ** 0.5\n",
    "                v_y = -x / (x ** 2 + x ** 2) ** 0.5\n",
    "\n",
    "                # We can approximate the cirular trajectory by dividing the time, t, into smaller steps, dt.\n",
    "                # So we calculate the displacement (time step * angular velocity * direction of motion)\n",
    "                d_x = timestep * p.ang_vel * v_x\n",
    "                d_y = timestep * p.ang_vel * v_y\n",
    "                \n",
    "                # We update the values\n",
    "                p.x += d_x\n",
    "                p.y += d.y\n",
    "                \n",
    "                # Repeat"
   ]
  }
 ],
 "metadata": {
  "kernelspec": {
   "display_name": "Python 3 (ipykernel)",
   "language": "python",
   "name": "python3"
  },
  "language_info": {
   "codemirror_mode": {
    "name": "ipython",
    "version": 3
   },
   "file_extension": ".py",
   "mimetype": "text/x-python",
   "name": "python",
   "nbconvert_exporter": "python",
   "pygments_lexer": "ipython3",
   "version": "3.10.4"
  }
 },
 "nbformat": 4,
 "nbformat_minor": 5
}
