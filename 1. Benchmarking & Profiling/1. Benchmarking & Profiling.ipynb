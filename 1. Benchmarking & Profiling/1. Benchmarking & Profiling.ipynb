{
 "cells": [
  {
   "cell_type": "code",
   "execution_count": 35,
   "id": "32ec732c",
   "metadata": {},
   "outputs": [],
   "source": [
    "# Particle position (x, y) with the angular velocity\n",
    "class Particle:\n",
    "    def __init__(self, x, y, ang_vel):\n",
    "        self.x = x\n",
    "        self.y = y\n",
    "        self.ang_vel = ang_vel\n",
    "    \n",
    "\n",
    "# Keep track of the positions of the particles\n",
    "class ParticleSimulator:\n",
    "    def __init__(self, particles):\n",
    "        self.particles = particles\n",
    "    \n",
    "    def evolve(self, dt):\n",
    "        timestep = 0.00001\n",
    "        nsteps = int(dt/timestep)\n",
    "        \n",
    "        for i in range(nsteps):\n",
    "            for p in self.particles:\n",
    "                # Compute  the velocity in directions of x and y\n",
    "                # Know the direction of movement along x and y (Pitagoras)\n",
    "                v_x = -p.y / (p.x ** 2 + p.y ** 2) ** 0.5\n",
    "                v_y = p.x / (p.x ** 2 + p.y ** 2) ** 0.5\n",
    "\n",
    "                # We can approximate the cirular trajectory by dividing the time, t, into smaller steps, dt.\n",
    "                # So we calculate the displacement (time step * angular velocity * direction of motion)\n",
    "                d_x = timestep * p.ang_vel * v_x\n",
    "                d_y = timestep * p.ang_vel * v_y\n",
    "                \n",
    "                # We update the values\n",
    "                p.x += d_x\n",
    "                p.y += d_y\n",
    "                \n",
    "                # Repeat"
   ]
  },
  {
   "cell_type": "code",
   "execution_count": 36,
   "id": "88cc96cb",
   "metadata": {},
   "outputs": [],
   "source": [
    "import matplotlib.pyplot as plt\n",
    "from matplotlib import animation # create an animation of the evolution\n",
    "\n",
    "def visualize(simulator: ParticleSimulator):\n",
    "    X = [p.x for p in simulator.particles]\n",
    "    Y = [p.y for p in simulator.particles]\n",
    "    \n",
    "    # Create the plot figure\n",
    "    fig = plt.figure()\n",
    "    \n",
    "    # Create the axis and line\n",
    "    ax = plt.subplot(\n",
    "        111, aspect='equal'\n",
    "    )\n",
    "    line, = ax.plot(X, Y, 'ro')\n",
    "    \n",
    "    # Define axis limits\n",
    "    plt.xlim(-1, 1)\n",
    "    plt.ylim(-1, 1)\n",
    "    \n",
    "    # Function that wil run when the animation starts\n",
    "    def init():\n",
    "        # Will start the line at position (0, 0)\n",
    "        line.set_data([], [])\n",
    "        return line, \n",
    "\n",
    "    # Define the animate function\n",
    "    def animate(i):\n",
    "        # Let the particle evolve for 0.01 units\n",
    "        simulator.evolve(0.01)\n",
    "        \n",
    "        # Track the new positions\n",
    "        X = [p.x for p in simulator.particles]\n",
    "        Y = [p.y for p in simulator.particles]\n",
    "            \n",
    "        # Update the position of the line\n",
    "        line.set_data(X, Y)\n",
    "        return line, \n",
    "\n",
    "    # And we call the animate function each 10 ms\n",
    "    anim = animation.FuncAnimation(\n",
    "        fig,\n",
    "        animate,\n",
    "        init_func=init,\n",
    "        blit=True,\n",
    "        interval=10\n",
    "    )\n",
    "    \n",
    "    plt.show()"
   ]
  },
  {
   "cell_type": "code",
   "execution_count": 37,
   "id": "d014077b",
   "metadata": {},
   "outputs": [],
   "source": [
    "def test_visualize():\n",
    "    particles = [\n",
    "        Particle(0.3, 0.5, 1),\n",
    "        Particle(0.0, -0.5, -1),\n",
    "        Particle(-0.1, -0.4, 3)\n",
    "    ]\n",
    "    \n",
    "    simulator = ParticleSimulator(particles)\n",
    "    \n",
    "    visualize(simulator)"
   ]
  },
  {
   "cell_type": "code",
   "execution_count": 38,
   "id": "2d4eb7ad",
   "metadata": {},
   "outputs": [
    {
     "data": {
      "image/png": "[encoded data removed]",
      "text/plain": [
       "<Figure size 640x480 with 1 Axes>"
      ]
     },
     "metadata": {},
     "output_type": "display_data"
    }
   ],
   "source": [
    "test_visualize()"
   ]
  },
  {
   "cell_type": "code",
   "execution_count": 34,
   "id": "0298de89",
   "metadata": {},
   "outputs": [
    {
     "ename": "AssertionError",
     "evalue": "",
     "output_type": "error",
     "traceback": [
      "\u001b[0;31m---------------------------------------------------------------------------\u001b[0m",
      "\u001b[0;31mAssertionError\u001b[0m                            Traceback (most recent call last)",
      "Cell \u001b[0;32mIn [34], line 25\u001b[0m\n\u001b[1;32m     22\u001b[0m     \u001b[38;5;28;01massert\u001b[39;00m fequal(p2\u001b[38;5;241m.\u001b[39mx, \u001b[38;5;241m0.191358\u001b[39m)\n\u001b[1;32m     23\u001b[0m     \u001b[38;5;28;01massert\u001b[39;00m fequal(p2\u001b[38;5;241m.\u001b[39my, \u001b[38;5;241m-\u001b[39m\u001b[38;5;241m0.365227\u001b[39m)\n\u001b[0;32m---> 25\u001b[0m \u001b[43mtest_evolve\u001b[49m\u001b[43m(\u001b[49m\u001b[43m)\u001b[49m\n",
      "Cell \u001b[0;32mIn [34], line 16\u001b[0m, in \u001b[0;36mtest_evolve\u001b[0;34m()\u001b[0m\n\u001b[1;32m     13\u001b[0m \u001b[38;5;28;01mdef\u001b[39;00m \u001b[38;5;21mfequal\u001b[39m(a, b, eps\u001b[38;5;241m=\u001b[39m\u001b[38;5;241m1e-5\u001b[39m):\n\u001b[1;32m     14\u001b[0m     \u001b[38;5;28;01mreturn\u001b[39;00m \u001b[38;5;28mabs\u001b[39m(a \u001b[38;5;241m-\u001b[39m b) \u001b[38;5;241m<\u001b[39m eps\n\u001b[0;32m---> 16\u001b[0m \u001b[38;5;28;01massert\u001b[39;00m fequal(p0\u001b[38;5;241m.\u001b[39mx, \u001b[38;5;241m0.210269\u001b[39m)\n\u001b[1;32m     17\u001b[0m \u001b[38;5;28;01massert\u001b[39;00m fequal(p0\u001b[38;5;241m.\u001b[39my, \u001b[38;5;241m0.543863\u001b[39m)\n\u001b[1;32m     19\u001b[0m \u001b[38;5;28;01massert\u001b[39;00m fequal(p1\u001b[38;5;241m.\u001b[39mx, \u001b[38;5;241m-\u001b[39m\u001b[38;5;241m0.099334\u001b[39m)\n",
      "\u001b[0;31mAssertionError\u001b[0m: "
     ]
    }
   ],
   "source": [
    "def test_evolve():\n",
    "    particles = [\n",
    "        Particle(0.3, 0.5, 1),\n",
    "        Particle(0.0, -0.5, -1),\n",
    "        Particle(-0.1, -0.4, 3)\n",
    "    ]\n",
    "    \n",
    "    simulator = ParticleSimulator(particles)\n",
    "    \n",
    "    # De-structure the list\n",
    "    p0, p1, p2 = particles\n",
    "    \n",
    "    def fequal(a, b, eps=1e-5):\n",
    "        return abs(a - b) < eps\n",
    "    \n",
    "    assert fequal(p0.x, 0.210269)\n",
    "    assert fequal(p0.y, 0.543863)\n",
    "    \n",
    "    assert fequal(p1.x, -0.099334)\n",
    "    assert fequal(p1.y, -0.490034)\n",
    "    \n",
    "    assert fequal(p2.x, 0.191358)\n",
    "    assert fequal(p2.y, -0.365227)\n",
    "\n",
    "test_evolve()"
   ]
  }
 ],
 "metadata": {
  "kernelspec": {
   "display_name": "Python 3 (ipykernel)",
   "language": "python",
   "name": "python3"
  },
  "language_info": {
   "codemirror_mode": {
    "name": "ipython",
    "version": 3
   },
   "file_extension": ".py",
   "mimetype": "text/x-python",
   "name": "python",
   "nbconvert_exporter": "python",
   "pygments_lexer": "ipython3",
   "version": "3.10.4"
  },
  "vscode": {
   "interpreter": {
    "hash": "916dbcbb3f70747c44a77c7bcd40155683ae19c65e1c03b4aa3499c5328201f1"
   }
  }
 },
 "nbformat": 4,
 "nbformat_minor": 5
}
